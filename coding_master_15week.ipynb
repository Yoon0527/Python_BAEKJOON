{
  "nbformat": 4,
  "nbformat_minor": 0,
  "metadata": {
    "colab": {
      "name": "coding_master_15week.ipynb",
      "provenance": [],
      "authorship_tag": "ABX9TyOwCMzWHAGQELhBbuTGC+OO",
      "include_colab_link": true
    },
    "kernelspec": {
      "name": "python3",
      "display_name": "Python 3"
    },
    "language_info": {
      "name": "python"
    }
  },
  "cells": [
    {
      "cell_type": "markdown",
      "metadata": {
        "id": "view-in-github",
        "colab_type": "text"
      },
      "source": [
        "<a href=\"https://colab.research.google.com/github/Yoon0527/Python_Study/blob/main/coding_master_15week.ipynb\" target=\"_parent\"><img src=\"https://colab.research.google.com/assets/colab-badge.svg\" alt=\"Open In Colab\"/></a>"
      ]
    },
    {
      "cell_type": "code",
      "source": [
        "# 백준 11399번\n",
        "# ATM 문제\n",
        "\n",
        "N = int(input())\n",
        "minute = list(map(int, input().split()))\n",
        "\n",
        "m_sort = sorted(minute)\n",
        "sum = 0\n",
        "temp = 0\n",
        "\n",
        "for i in range(N):\n",
        "  if i == 0:\n",
        "    sum += m_sort[i]\n",
        "  else:\n",
        "    for j in m_sort[:i+1]:\n",
        "      temp += j\n",
        "    sum += temp\n",
        "    temp = 0\n",
        "\n",
        "print(sum)\n"
      ],
      "metadata": {
        "colab": {
          "base_uri": "https://localhost:8080/"
        },
        "id": "EfhuEJuvBAxM",
        "outputId": "c27e8d4a-d5a4-411c-84d6-48b88e632e8e"
      },
      "execution_count": 15,
      "outputs": [
        {
          "output_type": "stream",
          "name": "stdout",
          "text": [
            "5\n",
            "3 1 4 3 2\n",
            "32\n"
          ]
        }
      ]
    },
    {
      "cell_type": "code",
      "source": [
        "# 백준 2751\n",
        "# 수 정렬하기 2\n",
        "import sys\n",
        "\n",
        "N = int(sys.stdin.readline())\n",
        "arr = []\n",
        "\n",
        "for i in range(N):\n",
        "  arr.append(int(sys.stdin.readline()))\n",
        "\n",
        "print(*sorted(arr), sep='\\n')"
      ],
      "metadata": {
        "id": "HXD4ZPoJHhOP",
        "colab": {
          "base_uri": "https://localhost:8080/"
        },
        "outputId": "e0bf8716-45a4-488b-e841-d864e06ce300"
      },
      "execution_count": 23,
      "outputs": [
        {
          "output_type": "stream",
          "name": "stdout",
          "text": [
            "5\n",
            "5\n",
            "4\n",
            "3\n",
            "2\n",
            "1\n",
            "1\n",
            "2\n",
            "3\n",
            "4\n",
            "5\n"
          ]
        }
      ]
    }
  ]
}