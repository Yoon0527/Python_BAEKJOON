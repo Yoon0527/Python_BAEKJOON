{
  "nbformat": 4,
  "nbformat_minor": 0,
  "metadata": {
    "colab": {
      "name": "baekjoon_220422.ipynb",
      "provenance": [],
      "authorship_tag": "ABX9TyO3cWRkrPQMKSBKzYzaI9H1",
      "include_colab_link": true
    },
    "kernelspec": {
      "name": "python3",
      "display_name": "Python 3"
    },
    "language_info": {
      "name": "python"
    }
  },
  "cells": [
    {
      "cell_type": "markdown",
      "metadata": {
        "id": "view-in-github",
        "colab_type": "text"
      },
      "source": [
        "<a href=\"https://colab.research.google.com/github/Yoon0527/Python_Study/blob/main/baekjoon_220422.ipynb\" target=\"_parent\"><img src=\"https://colab.research.google.com/assets/colab-badge.svg\" alt=\"Open In Colab\"/></a>"
      ]
    },
    {
      "cell_type": "code",
      "execution_count": 10,
      "metadata": {
        "colab": {
          "base_uri": "https://localhost:8080/"
        },
        "id": "sCAbgM3D3G_J",
        "outputId": "adac3ec6-c3bd-46ae-be3e-1dc642406fd3"
      },
      "outputs": [
        {
          "output_type": "stream",
          "name": "stdout",
          "text": [
            "2100000000 9 10\n",
            "2100000001\n"
          ]
        }
      ],
      "source": [
        "# 백준 1712\n",
        "# 손익분기점\n",
        "A, B, C = map(int, input().split())\n",
        "\n",
        "if B >= C:\n",
        "  print(-1)\n",
        "else:\n",
        "  print(int(A/(C-B)+1))  "
      ]
    }
  ]
}