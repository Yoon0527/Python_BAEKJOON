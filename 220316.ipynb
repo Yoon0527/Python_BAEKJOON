{
  "nbformat": 4,
  "nbformat_minor": 0,
  "metadata": {
    "colab": {
      "name": "220316.ipynb",
      "provenance": []
    },
    "kernelspec": {
      "name": "python3",
      "display_name": "Python 3"
    },
    "language_info": {
      "name": "python"
    }
  },
  "cells": [
    {
      "cell_type": "code",
      "source": [
        "n = input()\n",
        "print(n + '??!')"
      ],
      "metadata": {
        "id": "Lh4cghK-aW-H",
        "colab": {
          "base_uri": "https://localhost:8080/"
        },
        "outputId": "1ed48b0c-6300-46ee-c630-c745a919454c"
      },
      "execution_count": null,
      "outputs": [
        {
          "output_type": "stream",
          "name": "stdout",
          "text": [
            "joonas\n",
            "joonas??!\n"
          ]
        }
      ]
    },
    {
      "cell_type": "code",
      "source": [
        "print(\"\\\\    /\\\\\")\n",
        "print(\" )  ( ')\")\n",
        "print(\"(  /  )\")\n",
        "print(\" \\\\(__)|\")"
      ],
      "metadata": {
        "id": "yBUFY6FbaW71",
        "colab": {
          "base_uri": "https://localhost:8080/"
        },
        "outputId": "786f3dac-3791-4a67-9b52-6306a61d47da"
      },
      "execution_count": null,
      "outputs": [
        {
          "output_type": "stream",
          "name": "stdout",
          "text": [
            "\\    /\\\n",
            " )  ( ')\n",
            "(  /  )\n",
            " \\(__)|\n"
          ]
        }
      ]
    },
    {
      "cell_type": "code",
      "source": [
        "n = int(input())\n",
        "print(n-543)"
      ],
      "metadata": {
        "id": "QiHF355NaW5l",
        "colab": {
          "base_uri": "https://localhost:8080/"
        },
        "outputId": "c8cdf2b1-b934-42b7-ab76-4b5a157967a8"
      },
      "execution_count": null,
      "outputs": [
        {
          "output_type": "stream",
          "name": "stdout",
          "text": [
            "2541\n",
            "1998\n"
          ]
        }
      ]
    },
    {
      "cell_type": "code",
      "source": [
        "n1 = int(input())\n",
        "n2 = input()\n",
        "\n",
        "x1 = n1 * int(n2[2])\n",
        "x2 = n1 * int(n2[1])\n",
        "x3 = n1 * int(n2[0])\n",
        "\n",
        "print(x1)\n",
        "print(x2)\n",
        "print(x3)\n",
        "print(n1*int(n2))\n"
      ],
      "metadata": {
        "id": "Lwy2vh7yaW21",
        "colab": {
          "base_uri": "https://localhost:8080/"
        },
        "outputId": "0e6e6ac1-fc28-4f8a-a61c-edaeb3ab9283"
      },
      "execution_count": null,
      "outputs": [
        {
          "output_type": "stream",
          "name": "stdout",
          "text": [
            "472\n",
            "385\n",
            "2360\n",
            "3776\n",
            "1416\n",
            "181720\n"
          ]
        }
      ]
    },
    {
      "cell_type": "code",
      "source": [
        "H, M = map(int, input().split())\n",
        "timer = int(input()) \n",
        "\n",
        "H += timer // 60\n",
        "M += timer % 60\n",
        "\n",
        "if M >= 60:\n",
        "    H += 1\n",
        "    M -= 60\n",
        "if H >= 24:\n",
        "    H -= 24\n",
        "\n",
        "print(H,M)"
      ],
      "metadata": {
        "id": "23bwW6sZaWx1",
        "colab": {
          "base_uri": "https://localhost:8080/"
        },
        "outputId": "baa1c265-e83c-4769-e73d-c216ac028a73"
      },
      "execution_count": null,
      "outputs": [
        {
          "output_type": "stream",
          "name": "stdout",
          "text": [
            "17 40\n",
            "80\n",
            "18\n",
            "60\n",
            "19\n",
            "0\n",
            "19 0\n"
          ]
        }
      ]
    },
    {
      "cell_type": "code",
      "source": [
        "n1, n2, n3 = map(int, input().split())\n",
        "\n",
        "if n1 == n2 == n3:\n",
        "  print(10000 + (n1*1000))\n",
        "elif n1 == n2 or n1 == n3:\n",
        "  print(1000 + (n1*100))\n",
        "elif n2 == n3:\n",
        "  print(1000 + (n2*100))\n",
        "else:\n",
        "  print(100 * max(n1, n2, n3))"
      ],
      "metadata": {
        "id": "HiGD8wzJWQ7X",
        "colab": {
          "base_uri": "https://localhost:8080/"
        },
        "outputId": "7c8324e5-082c-44d0-cdf9-56f49f6db404"
      },
      "execution_count": null,
      "outputs": [
        {
          "output_type": "stream",
          "name": "stdout",
          "text": [
            "6 2 5\n",
            "600\n"
          ]
        }
      ]
    },
    {
      "cell_type": "code",
      "source": [
        "while True:\n",
        "  a, b = map(int, input().split())\n",
        "  if a == 0 and b == 0:\n",
        "    break\n",
        "  else:\n",
        "    print(a+b)"
      ],
      "metadata": {
        "id": "9HSsNFqLWQ5F",
        "colab": {
          "base_uri": "https://localhost:8080/"
        },
        "outputId": "9185f5d8-0463-4e78-ff1e-f1d163bc7398"
      },
      "execution_count": null,
      "outputs": [
        {
          "name": "stdout",
          "output_type": "stream",
          "text": [
            "1 1\n",
            "2\n",
            "2 3\n",
            "5\n",
            "3 4\n",
            "7\n",
            "0 0\n"
          ]
        }
      ]
    },
    {
      "cell_type": "code",
      "source": [
        "while True:\n",
        "    try:\n",
        "        A, B = map(int, input().split())\n",
        "        print(A+B)\n",
        "    except:\n",
        "        break"
      ],
      "metadata": {
        "id": "G4EcbH4EWQ21"
      },
      "execution_count": null,
      "outputs": []
    }
  ]
}