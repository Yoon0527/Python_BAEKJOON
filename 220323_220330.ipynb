{
  "nbformat": 4,
  "nbformat_minor": 0,
  "metadata": {
    "colab": {
      "name": "220323_220330.ipynb",
      "provenance": []
    },
    "kernelspec": {
      "name": "python3",
      "display_name": "Python 3"
    },
    "language_info": {
      "name": "python"
    }
  },
  "cells": [
    {
      "cell_type": "markdown",
      "source": [
        "# 단계별로 풀어보기\n"
      ],
      "metadata": {
        "id": "E12SCxaaGF_R"
      }
    },
    {
      "cell_type": "code",
      "execution_count": 2,
      "metadata": {
        "colab": {
          "base_uri": "https://localhost:8080/"
        },
        "id": "-zEGt_RFF2Vg",
        "outputId": "8c2f468e-8b17-409c-8a07-1f83fc7d5dca"
      },
      "outputs": [
        {
          "output_type": "stream",
          "name": "stdout",
          "text": [
            "42\n",
            "84\n",
            "252\n",
            "420\n",
            "840\n",
            "126\n",
            "42\n",
            "84\n",
            "420\n",
            "126\n",
            "1\n"
          ]
        }
      ],
      "source": [
        "# 백준 3052번\n",
        "# 나머지\n",
        "\n",
        "b = 42\n",
        "arr =[]\n",
        "\n",
        "for i in range(10):\n",
        "  a = int(input())\n",
        "  arr.append(a % b)\n",
        "\n",
        "result = set(arr)\n",
        "print(len(result))"
      ]
    },
    {
      "cell_type": "code",
      "source": [
        "c = int(input())\n",
        "\n",
        "for i in range(c):\n",
        "  score = list(map(int, input().split()))\n",
        "  avg = sum(score[1:])/score[0]\n",
        "  count = 0\n",
        "  for result in score[1:]:\n",
        "    if result > avg:\n",
        "      count += 1\n",
        "  rate = count/score[0] * 100\n",
        "  print(f'{rate:.3f}%')"
      ],
      "metadata": {
        "colab": {
          "base_uri": "https://localhost:8080/"
        },
        "id": "HywkhSgdH80C",
        "outputId": "62129e71-3dd9-42f3-b638-5bb43a886b0c"
      },
      "execution_count": 8,
      "outputs": [
        {
          "output_type": "stream",
          "name": "stdout",
          "text": [
            "1\n",
            "5 50 50 70 80 100\n",
            "40.000%\n"
          ]
        }
      ]
    }
  ]
}