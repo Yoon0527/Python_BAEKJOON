{
  "nbformat": 4,
  "nbformat_minor": 0,
  "metadata": {
    "colab": {
      "name": "220323_220330.ipynb",
      "provenance": []
    },
    "kernelspec": {
      "name": "python3",
      "display_name": "Python 3"
    },
    "language_info": {
      "name": "python"
    }
  },
  "cells": [
    {
      "cell_type": "markdown",
      "source": [
        "# 단계별로 풀어보기\n"
      ],
      "metadata": {
        "id": "E12SCxaaGF_R"
      }
    },
    {
      "cell_type": "code",
      "execution_count": null,
      "metadata": {
        "colab": {
          "base_uri": "https://localhost:8080/"
        },
        "id": "-zEGt_RFF2Vg",
        "outputId": "8c2f468e-8b17-409c-8a07-1f83fc7d5dca"
      },
      "outputs": [
        {
          "output_type": "stream",
          "name": "stdout",
          "text": [
            "42\n",
            "84\n",
            "252\n",
            "420\n",
            "840\n",
            "126\n",
            "42\n",
            "84\n",
            "420\n",
            "126\n",
            "1\n"
          ]
        }
      ],
      "source": [
        "# 백준 3052번\n",
        "# 나머지\n",
        "\n",
        "b = 42\n",
        "arr =[]\n",
        "\n",
        "for i in range(10):\n",
        "  a = int(input())\n",
        "  arr.append(a % b)\n",
        "\n",
        "result = set(arr)\n",
        "print(len(result))"
      ]
    },
    {
      "cell_type": "code",
      "source": [
        "c = int(input())\n",
        "\n",
        "for i in range(c):\n",
        "  score = list(map(int, input().split()))\n",
        "  avg = sum(score[1:])/score[0]\n",
        "  count = 0\n",
        "  for result in score[1:]:\n",
        "    if result > avg:\n",
        "      count += 1\n",
        "  rate = count/score[0] * 100\n",
        "  print(f'{rate:.3f}%')"
      ],
      "metadata": {
        "colab": {
          "base_uri": "https://localhost:8080/"
        },
        "id": "HywkhSgdH80C",
        "outputId": "62129e71-3dd9-42f3-b638-5bb43a886b0c"
      },
      "execution_count": null,
      "outputs": [
        {
          "output_type": "stream",
          "name": "stdout",
          "text": [
            "1\n",
            "5 50 50 70 80 100\n",
            "40.000%\n"
          ]
        }
      ]
    },
    {
      "cell_type": "code",
      "source": [
        "# 백준 15596번\n",
        "# 정수 N개의 합\n",
        "\n",
        "def solve(a: list):\n",
        "  result = sum(a)\n",
        "  return result\n",
        "\n",
        "a = [1, 2, 3, 4]\n",
        "\n",
        "solve(a)"
      ],
      "metadata": {
        "colab": {
          "base_uri": "https://localhost:8080/"
        },
        "id": "QGvpUGcZOfvz",
        "outputId": "74e9844e-309b-433c-cf18-cf83d0f7d1f7"
      },
      "execution_count": null,
      "outputs": [
        {
          "output_type": "execute_result",
          "data": {
            "text/plain": [
              "10"
            ]
          },
          "metadata": {},
          "execution_count": 13
        }
      ]
    },
    {
      "cell_type": "code",
      "source": [
        "# 백준 11654번\n",
        "# 아스키 코드\n",
        "# 잘 되는데 틀렸다고 함\n",
        "def ascii(n):\n",
        "  y = ord(n)\n",
        "  return y\n",
        "\n",
        "n = input()\n",
        "ascii(n)"
      ],
      "metadata": {
        "colab": {
          "base_uri": "https://localhost:8080/"
        },
        "id": "r-qDZEFL1xjf",
        "outputId": "0d762bd3-9127-4ab9-8017-9e07b86fc158"
      },
      "execution_count": null,
      "outputs": [
        {
          "name": "stdout",
          "output_type": "stream",
          "text": [
            "z\n"
          ]
        },
        {
          "output_type": "execute_result",
          "data": {
            "text/plain": [
              "122"
            ]
          },
          "metadata": {},
          "execution_count": 6
        }
      ]
    },
    {
      "cell_type": "code",
      "source": [
        "# 위 문제 해결\n",
        "n = input()\n",
        "print(ord(n))"
      ],
      "metadata": {
        "colab": {
          "base_uri": "https://localhost:8080/"
        },
        "id": "Vq5xGxWk3FJD",
        "outputId": "3b9dd85b-78e5-402f-ad2b-ae75b340716b"
      },
      "execution_count": null,
      "outputs": [
        {
          "output_type": "stream",
          "name": "stdout",
          "text": [
            "a\n",
            "97\n"
          ]
        }
      ]
    },
    {
      "cell_type": "code",
      "source": [
        "# 백준 11720번\n",
        "# 숫자의 합\n",
        "\n",
        "n = int(input())\n",
        "num = input()\n",
        "sum = 0\n",
        "\n",
        "for i in num:\n",
        "  sum += int(i)\n",
        "\n",
        "print(sum)"
      ],
      "metadata": {
        "colab": {
          "base_uri": "https://localhost:8080/"
        },
        "id": "kwKeFiE73gbv",
        "outputId": "56710f36-5a2b-42e5-b9d8-f254a4bd6470"
      },
      "execution_count": null,
      "outputs": [
        {
          "output_type": "stream",
          "name": "stdout",
          "text": [
            "5\n",
            "54321\n",
            "15\n"
          ]
        }
      ]
    },
    {
      "cell_type": "code",
      "source": [
        "# 백준 10809번\n",
        "# 알파벳 찾기\n",
        "\n",
        "n = input()\n",
        "alphabet = list(range(97, 123))\n",
        "\n",
        "for i in alphabet:\n",
        "  print(n.find(chr(i)), end=' ')"
      ],
      "metadata": {
        "colab": {
          "base_uri": "https://localhost:8080/"
        },
        "id": "4CCOI5pB38oP",
        "outputId": "11ecd9d9-c26d-4946-cfbb-3899597cadd7"
      },
      "execution_count": null,
      "outputs": [
        {
          "output_type": "stream",
          "name": "stdout",
          "text": [
            "baekjoon\n",
            "1 0 -1 -1 2 -1 -1 -1 -1 4 3 -1 -1 7 5 -1 -1 -1 -1 -1 -1 -1 -1 -1 -1 -1 "
          ]
        }
      ]
    },
    {
      "cell_type": "code",
      "source": [
        "# 백준 2675번\n",
        "# 문자열 반복\n",
        "\n",
        "n = int(input())\n",
        "\n",
        "for i in range(n):\n",
        "  num, string = map(str, input().split())\n",
        "  for j in string:\n",
        "    print(j*int(num), end='')\n",
        "  print('')"
      ],
      "metadata": {
        "colab": {
          "base_uri": "https://localhost:8080/"
        },
        "id": "Q3hHdsis5Lbp",
        "outputId": "eb553dd3-7e93-411d-bcb8-0d9e39c52bf5"
      },
      "execution_count": null,
      "outputs": [
        {
          "output_type": "stream",
          "name": "stdout",
          "text": [
            "2\n",
            "3 ABC\n",
            "AAABBBCCC\n",
            "5 /HTP\n",
            "/////HHHHHTTTTTPPPPP\n"
          ]
        }
      ]
    },
    {
      "cell_type": "code",
      "source": [
        "# 백준 1152번\n",
        "# 단어의 개수\n",
        "\n",
        "sentence = input()\n",
        "\n",
        "result = len(sentence.split())\n",
        "print(result)"
      ],
      "metadata": {
        "colab": {
          "base_uri": "https://localhost:8080/"
        },
        "id": "k8J6m9DI6Y7J",
        "outputId": "44617af1-68aa-49f8-a5e9-0059b9f2c8b3"
      },
      "execution_count": null,
      "outputs": [
        {
          "output_type": "stream",
          "name": "stdout",
          "text": [
            "The Curious Case of Benjamin Button\n",
            "6\n"
          ]
        }
      ]
    },
    {
      "cell_type": "code",
      "source": [
        "# 백준 2908\n",
        "# 상수\n",
        "a, b = map(str, input().split())\n",
        "a_re = int(a[::-1])\n",
        "b_re = int(b[::-1])\n",
        "\n",
        "print(max(a_re, b_re))"
      ],
      "metadata": {
        "colab": {
          "base_uri": "https://localhost:8080/"
        },
        "id": "jIJyRwrOBQo4",
        "outputId": "3029d21b-725d-4bb9-e9f1-a35791824b37"
      },
      "execution_count": null,
      "outputs": [
        {
          "output_type": "stream",
          "name": "stdout",
          "text": [
            "734 893\n",
            "437\n"
          ]
        }
      ]
    },
    {
      "cell_type": "code",
      "source": [
        "# 백준 5622\n",
        "# 다이얼\n",
        "\n",
        "n = input()\n",
        "sum = 0\n",
        "\n",
        "for i in n:\n",
        "  if 'A'<= i <= 'C':\n",
        "    sum += 3\n",
        "  elif 'D' <= i <= 'F':\n",
        "    sum += 4\n",
        "  elif 'G' <= i <= 'I':\n",
        "    sum += 5\n",
        "  elif 'J' <= i <= 'L':\n",
        "    sum += 6\n",
        "  elif 'M' <= i <= 'O':\n",
        "    sum += 7\n",
        "  elif 'P' <= i <= 'S':\n",
        "    sum += 8\n",
        "  elif 'T' <= i <= 'V':\n",
        "    sum += 9\n",
        "  elif 'W' <= i <= 'Z':\n",
        "    sum += 10\n",
        "\n",
        "print(sum)"
      ],
      "metadata": {
        "colab": {
          "base_uri": "https://localhost:8080/"
        },
        "id": "OaBRX4VsB6DL",
        "outputId": "a7030b20-ce4b-4ebd-dba9-ce6d4a89844e"
      },
      "execution_count": null,
      "outputs": [
        {
          "output_type": "stream",
          "name": "stdout",
          "text": [
            "UNUCIC\n",
            "36\n"
          ]
        }
      ]
    }
  ]
}