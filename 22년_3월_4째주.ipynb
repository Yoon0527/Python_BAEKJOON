{
  "nbformat": 4,
  "nbformat_minor": 0,
  "metadata": {
    "colab": {
      "name": "22년 3월 4째주.ipynb",
      "provenance": [],
      "collapsed_sections": []
    },
    "kernelspec": {
      "name": "python3",
      "display_name": "Python 3"
    },
    "language_info": {
      "name": "python"
    }
  },
  "cells": [
    {
      "cell_type": "markdown",
      "source": [
        "# 파이썬 스터디"
      ],
      "metadata": {
        "id": "tnNW4I0Mc2A9"
      }
    },
    {
      "cell_type": "code",
      "execution_count": null,
      "metadata": {
        "colab": {
          "base_uri": "https://localhost:8080/"
        },
        "id": "7VEaY-aVcZY4",
        "outputId": "cf388bfb-0f98-4e59-acd4-f7257f2c86bf"
      },
      "outputs": [
        {
          "output_type": "stream",
          "name": "stdout",
          "text": [
            "10\n",
            "2\n"
          ]
        }
      ],
      "source": [
        "# 백준 1676\n",
        "# N!에서 뒤에서부터 처음 0이 아닌 숫자가 나올 때까지 0의 개수를 구하는 프로그램을 작성하시오\n",
        "\n",
        "n = int(input())\n",
        "\n",
        "count = 0\n",
        "\n",
        "while n >= 5:\n",
        "  count += n//5\n",
        "  n //= 5\n",
        "\n",
        "print(count)"
      ]
    },
    {
      "cell_type": "code",
      "source": [
        "# 백준 10815\n",
        "# 숫자 카드\n",
        "import sys\n",
        "\n",
        "n = int(sys.stdin.readline())\n",
        "x = list(map(int, sys.stdin.readline().split()))\n",
        "m = int(sys.stdin.readline())\n",
        "y = list(map(int, sys.stdin.readline().split()))\n",
        "\n",
        "answer = []\n",
        "for i in y:\n",
        "  if i in x:\n",
        "    answer.append('1')\n",
        "  else:\n",
        "    answer.append('0')\n",
        "\n",
        "print(answer)"
      ],
      "metadata": {
        "id": "JKUkIT3QeoQC",
        "colab": {
          "base_uri": "https://localhost:8080/",
          "height": 236
        },
        "outputId": "07b1fe4c-7038-42e0-eff9-667668276708"
      },
      "execution_count": null,
      "outputs": [
        {
          "output_type": "error",
          "ename": "ValueError",
          "evalue": "ignored",
          "traceback": [
            "\u001b[0;31m---------------------------------------------------------------------------\u001b[0m",
            "\u001b[0;31mValueError\u001b[0m                                Traceback (most recent call last)",
            "\u001b[0;32m<ipython-input-6-b23f9836acb0>\u001b[0m in \u001b[0;36m<module>\u001b[0;34m()\u001b[0m\n\u001b[1;32m      3\u001b[0m \u001b[0;32mimport\u001b[0m \u001b[0msys\u001b[0m\u001b[0;34m\u001b[0m\u001b[0;34m\u001b[0m\u001b[0m\n\u001b[1;32m      4\u001b[0m \u001b[0;34m\u001b[0m\u001b[0m\n\u001b[0;32m----> 5\u001b[0;31m \u001b[0mn\u001b[0m \u001b[0;34m=\u001b[0m \u001b[0mint\u001b[0m\u001b[0;34m(\u001b[0m\u001b[0msys\u001b[0m\u001b[0;34m.\u001b[0m\u001b[0mstdin\u001b[0m\u001b[0;34m.\u001b[0m\u001b[0mreadline\u001b[0m\u001b[0;34m(\u001b[0m\u001b[0;34m)\u001b[0m\u001b[0;34m)\u001b[0m\u001b[0;34m\u001b[0m\u001b[0;34m\u001b[0m\u001b[0m\n\u001b[0m\u001b[1;32m      6\u001b[0m \u001b[0mx\u001b[0m \u001b[0;34m=\u001b[0m \u001b[0mlist\u001b[0m\u001b[0;34m(\u001b[0m\u001b[0mmap\u001b[0m\u001b[0;34m(\u001b[0m\u001b[0mint\u001b[0m\u001b[0;34m,\u001b[0m \u001b[0msys\u001b[0m\u001b[0;34m.\u001b[0m\u001b[0mstdin\u001b[0m\u001b[0;34m.\u001b[0m\u001b[0mreadline\u001b[0m\u001b[0;34m(\u001b[0m\u001b[0;34m)\u001b[0m\u001b[0;34m.\u001b[0m\u001b[0msplit\u001b[0m\u001b[0;34m(\u001b[0m\u001b[0;34m)\u001b[0m\u001b[0;34m)\u001b[0m\u001b[0;34m)\u001b[0m\u001b[0;34m\u001b[0m\u001b[0;34m\u001b[0m\u001b[0m\n\u001b[1;32m      7\u001b[0m \u001b[0mm\u001b[0m \u001b[0;34m=\u001b[0m \u001b[0mint\u001b[0m\u001b[0;34m(\u001b[0m\u001b[0msys\u001b[0m\u001b[0;34m.\u001b[0m\u001b[0mstdin\u001b[0m\u001b[0;34m.\u001b[0m\u001b[0mreadline\u001b[0m\u001b[0;34m(\u001b[0m\u001b[0;34m)\u001b[0m\u001b[0;34m)\u001b[0m\u001b[0;34m\u001b[0m\u001b[0;34m\u001b[0m\u001b[0m\n",
            "\u001b[0;31mValueError\u001b[0m: invalid literal for int() with base 10: ''"
          ]
        }
      ]
    },
    {
      "cell_type": "code",
      "source": [
        "input()\n",
        "n = set(map(int, input().split()))\n",
        "input()\n",
        "m = list(map(int, input().split()))\n",
        "for i in m:\n",
        "    if i in n:\n",
        "        print(1, end=' ')\n",
        "    else:\n",
        "        print(0, end=' ')"
      ],
      "metadata": {
        "id": "itISIAfSfDuI",
        "colab": {
          "base_uri": "https://localhost:8080/"
        },
        "outputId": "992a75c2-aac0-44af-af7a-974f6263ea13"
      },
      "execution_count": null,
      "outputs": [
        {
          "output_type": "stream",
          "name": "stdout",
          "text": [
            "5\n",
            "6 3 2 10 -10\n",
            "8\n",
            "10 9 -5 2 3 4 5 -10\n",
            "1 0 0 1 1 0 0 1 "
          ]
        }
      ]
    },
    {
      "cell_type": "markdown",
      "source": [
        "# 단계별로 풀기"
      ],
      "metadata": {
        "id": "j6eEzwJcfEAs"
      }
    },
    {
      "cell_type": "code",
      "source": [
        "# 백준 1110번\n",
        "# 못풀어서 https://ooyoung.tistory.com/46 코드 참고함.\n",
        "\n",
        "input_num = int(input())\n",
        "\n",
        "num = input_num  # num 변수에 input_num을 지정\n",
        "cnt = 0\n",
        "while True:\n",
        "    sum_num = (num // 10) + (num % 10)  # 각 자릿수를 더한수\n",
        "    new_num = ((num % 10) * 10) + (sum_num % 10)  # 새로 만들어지는 수\n",
        "    cnt += 1  # 사이클 카운트\n",
        "    if new_num == input_num :\n",
        "        break\n",
        "    num = new_num  # num 변수에 last_num을 지정 \n",
        "print(cnt)"
      ],
      "metadata": {
        "id": "fgnq8clYfQxY"
      },
      "execution_count": null,
      "outputs": []
    },
    {
      "cell_type": "code",
      "source": [
        "# 백준 10818번 \n",
        "# 최소, 최대\n",
        "\n",
        "n = int(input())\n",
        "arr = list(map(int, input().split()))\n",
        "\n",
        "print(min(arr), max(arr))"
      ],
      "metadata": {
        "colab": {
          "base_uri": "https://localhost:8080/"
        },
        "id": "XKPCvOH4w052",
        "outputId": "4225240a-e679-4819-d922-e6aec32dcf12"
      },
      "execution_count": null,
      "outputs": [
        {
          "output_type": "stream",
          "name": "stdout",
          "text": [
            "5\n",
            "10 20 30 40 50\n",
            "10 50\n"
          ]
        }
      ]
    },
    {
      "cell_type": "code",
      "source": [
        "# 백준 2562\n",
        "# 최댓값\n",
        "\n",
        "arr = []\n",
        "\n",
        "for i in range(9):\n",
        "  arr.append(int(input()))\n",
        "\n",
        "print(max(arr))\n",
        "print(arr.index(max(arr)) + 1)"
      ],
      "metadata": {
        "id": "XK08llLbxcTl",
        "colab": {
          "base_uri": "https://localhost:8080/"
        },
        "outputId": "f374b658-b199-41b9-fc34-2761f8779154"
      },
      "execution_count": 6,
      "outputs": [
        {
          "output_type": "stream",
          "name": "stdout",
          "text": [
            "3\n",
            "29\n",
            "38\n",
            "12\n",
            "57\n",
            "74\n",
            "40\n",
            "85\n",
            "61\n",
            "85\n",
            "8\n"
          ]
        }
      ]
    }
  ]
}