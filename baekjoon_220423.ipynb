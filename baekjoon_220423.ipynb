{
  "nbformat": 4,
  "nbformat_minor": 0,
  "metadata": {
    "colab": {
      "name": "baekjoon_220423.ipynb",
      "provenance": [],
      "authorship_tag": "ABX9TyMVNgZ4l5aHP4EkxwXr7wFb",
      "include_colab_link": true
    },
    "kernelspec": {
      "name": "python3",
      "display_name": "Python 3"
    },
    "language_info": {
      "name": "python"
    }
  },
  "cells": [
    {
      "cell_type": "markdown",
      "metadata": {
        "id": "view-in-github",
        "colab_type": "text"
      },
      "source": [
        "<a href=\"https://colab.research.google.com/github/Yoon0527/Python_Study/blob/main/baekjoon_220423.ipynb\" target=\"_parent\"><img src=\"https://colab.research.google.com/assets/colab-badge.svg\" alt=\"Open In Colab\"/></a>"
      ]
    },
    {
      "cell_type": "code",
      "source": [
        "# 백준 2292\n",
        "# 벌집\n",
        "N = int(input())\n",
        "honeycomb = 1\n",
        "cnt = 1\n",
        "\n",
        "while N > honeycomb:\n",
        "  honeycomb += cnt * 6\n",
        "  cnt += 1\n",
        "\n",
        "print(cnt)"
      ],
      "metadata": {
        "colab": {
          "base_uri": "https://localhost:8080/"
        },
        "id": "HF1ciT4jev23",
        "outputId": "06783d23-55e8-4dfe-852e-ab2399e287c8"
      },
      "execution_count": 4,
      "outputs": [
        {
          "output_type": "stream",
          "name": "stdout",
          "text": [
            "13\n",
            "3\n"
          ]
        }
      ]
    }
  ]
}