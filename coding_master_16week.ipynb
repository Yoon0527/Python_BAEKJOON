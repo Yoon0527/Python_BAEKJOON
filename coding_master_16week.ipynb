{
  "nbformat": 4,
  "nbformat_minor": 0,
  "metadata": {
    "colab": {
      "name": "coding_master_16week.ipynb",
      "provenance": [],
      "collapsed_sections": [],
      "authorship_tag": "ABX9TyO9s2zknfeXlSNr9XPyXsvK",
      "include_colab_link": true
    },
    "kernelspec": {
      "name": "python3",
      "display_name": "Python 3"
    },
    "language_info": {
      "name": "python"
    }
  },
  "cells": [
    {
      "cell_type": "markdown",
      "metadata": {
        "id": "view-in-github",
        "colab_type": "text"
      },
      "source": [
        "<a href=\"https://colab.research.google.com/github/Yoon0527/Python_Study/blob/main/coding_master_16week.ipynb\" target=\"_parent\"><img src=\"https://colab.research.google.com/assets/colab-badge.svg\" alt=\"Open In Colab\"/></a>"
      ]
    },
    {
      "cell_type": "code",
      "source": [
        "# 백준 1920번\n",
        "# 수 찾기\n",
        "N = int(input())\n",
        "arr1 = sorted(list(map(int, input().split())))\n",
        "M = int(input())\n",
        "arr2 = list(map(int, input().split()))\n",
        "\n",
        "def binary(i, arr):\n",
        "  start = 0\n",
        "  end = len(arr)-1\n",
        "\n",
        "  while start <= end:\n",
        "    mid = (start + end) // 2\n",
        "\n",
        "    if i == arr[mid]:\n",
        "      return True\n",
        "    elif i < arr[mid]:\n",
        "      end = mid - 1\n",
        "    elif i > arr[mid]:\n",
        "      start = mid + 1\n",
        "\n",
        "for i in arr2:\n",
        "  if binary(i, arr1):\n",
        "    print(1)\n",
        "  else:\n",
        "    print(0)"
      ],
      "metadata": {
        "colab": {
          "base_uri": "https://localhost:8080/"
        },
        "id": "5I967l0RvzbU",
        "outputId": "b77a8673-f957-423f-ff91-7bbd4592bb85"
      },
      "execution_count": null,
      "outputs": [
        {
          "output_type": "stream",
          "name": "stdout",
          "text": [
            "5\n",
            "4 1 5 2 3\n",
            "5\n",
            "1 3 7 9 5\n",
            "1\n",
            "1\n",
            "0\n",
            "0\n",
            "1\n"
          ]
        }
      ]
    },
    {
      "cell_type": "code",
      "source": [
        "# 백준 2805번\n",
        "# 나무자르기\n",
        "# 틀렸다고 나옴\n",
        "# https://joey09.tistory.com/113에 있는 테스트 케이스에서는 작동하지 않는다.\n",
        "N, M = map(int, input().split())\n",
        "tree = list(map(int, input().split()))\n",
        "height = list(i for i in range(max(tree)+1))\n",
        "\n",
        "def calc(x, arr):\n",
        "  result = 0\n",
        "\n",
        "  for i in arr:\n",
        "    if x <= i:\n",
        "      result += i - x\n",
        "    else:\n",
        "      continue\n",
        "  return result\n",
        "  \n",
        "def binary(m, t, h):\n",
        "  start = 1\n",
        "  end = len(h)-1\n",
        "\n",
        "  while start <= end:\n",
        "    mid = (start+end) // 2\n",
        "    if calc(h[mid], t) == m:\n",
        "      return h[mid]\n",
        "    elif calc(h[mid], t) < m:\n",
        "      end = mid - 1\n",
        "    else:\n",
        "      start = mid + 1\n",
        "\n",
        "binary(M, tree, height)"
      ],
      "metadata": {
        "colab": {
          "base_uri": "https://localhost:8080/"
        },
        "id": "vaHLD_scqIHy",
        "outputId": "169f6df7-1556-429c-f887-a190d092125b"
      },
      "execution_count": 15,
      "outputs": [
        {
          "name": "stdout",
          "output_type": "stream",
          "text": [
            "3 1\n",
            "1 2 2 \n"
          ]
        }
      ]
    },
    {
      "cell_type": "code",
      "source": [
        "# 이것도 안됨\n",
        "N, M = map(int, input().split())\n",
        "tree = list(map(int, input().split()))\n",
        "start, end = 1, max(tree)\n",
        "\n",
        "while start <= end:\n",
        "  mid = (start+end) // 2\n",
        "  height = 0\n",
        "\n",
        "  for i in tree:\n",
        "    if i >= mid:\n",
        "      height += i - mid\n",
        "  \n",
        "  if height <= M:\n",
        "    end = mid - 1\n",
        "  else:\n",
        "    start = mid + 1\n",
        "\n",
        "print(end)"
      ],
      "metadata": {
        "colab": {
          "base_uri": "https://localhost:8080/"
        },
        "id": "x64IGznjzm3H",
        "outputId": "8cd0478e-768f-4edf-ba93-96bea9be305c"
      },
      "execution_count": 17,
      "outputs": [
        {
          "output_type": "stream",
          "name": "stdout",
          "text": [
            "3 1\n",
            "1 2 2\n",
            "1\n"
          ]
        }
      ]
    },
    {
      "cell_type": "code",
      "source": [
        "# 이코테 27번\n",
        "# 정렬된 배열에서 특정 수의 개수 구하기\n",
        "N, x = map(int, input().split())\n",
        "arr = list(map(int, input().split()))\n",
        "\n",
        "def binary(x, arr):\n",
        "  cnt = 0\n",
        "  start = 0\n",
        "  end = len(arr) - 1\n",
        "  \n",
        "\n",
        "  while start <= end:\n",
        "    mid = (start + end) // 2\n",
        "\n",
        "    if x == arr[mid]:\n",
        "      cnt += 1\n",
        "      del arr[mid]\n",
        "    elif x < arr[mid]:\n",
        "      end = mid - 1\n",
        "    else:\n",
        "      start = mid + 1\n",
        "\n",
        "  if cnt != 0:\n",
        "    return cnt\n",
        "  elif cnt == 0:\n",
        "    return -1\n",
        "\n",
        "print(binary(x, arr))\n"
      ],
      "metadata": {
        "id": "AHgmAwCuDeNR",
        "colab": {
          "base_uri": "https://localhost:8080/"
        },
        "outputId": "1b0d1bea-e0b4-4a0e-a40f-eb4a619ddc94"
      },
      "execution_count": null,
      "outputs": [
        {
          "output_type": "stream",
          "name": "stdout",
          "text": [
            "7 4\n",
            "1 1 2 2 2 2 3\n",
            "-1\n"
          ]
        }
      ]
    },
    {
      "cell_type": "code",
      "source": [
        "# 이코테 368p 28번\n",
        "# 고정점 찾기\n",
        "\n",
        "N = int(input())\n",
        "arr = list(map(int, input().split()))\n",
        "\n",
        "def binary(arr):\n",
        "  start = 0\n",
        "  end = len(arr) - 1\n",
        "\n",
        "  while start <= end:\n",
        "    mid = (start + end) // 2\n",
        "    \n",
        "    if arr[mid] == mid:\n",
        "      return mid\n",
        "    elif arr[mid] > mid:\n",
        "      end = mid -1\n",
        "    else:\n",
        "      start = mid + 1\n",
        "  \n",
        "  return -1\n",
        "\n",
        "\n",
        "print(binary(arr))"
      ],
      "metadata": {
        "colab": {
          "base_uri": "https://localhost:8080/"
        },
        "id": "yvCaaJO4n0V-",
        "outputId": "a185381c-397d-4bd2-b004-ced4bb550bbc"
      },
      "execution_count": 7,
      "outputs": [
        {
          "output_type": "stream",
          "name": "stdout",
          "text": [
            "7\n",
            "-15 -4 3 8 9 13 15\n",
            "-1\n"
          ]
        }
      ]
    }
  ]
}